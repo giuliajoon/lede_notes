{
 "cells": [
  {
   "cell_type": "markdown",
   "metadata": {},
   "source": [
    "#1) Given the following code, what is the output?\n",
    "\n",
    "i = 5\n",
    "\n",
    "print 5 * 5\n",
    "\n",
    "print i\n",
    "\n",
    "print \"cat\" + \"dog\"\n",
    "\n",
    "print \"cat\", \"dog\"\n",
    "\n",
    "#2a) The code below doesn't work. Why not?\n",
    "\n",
    "print 5 + \"5\"\n",
    "\n",
    "#2b) There are several ways to make it work! Give two possible changes and what the output would be in each case.\n",
    "\n",
    "#3) What is wrong with the following if statement?\n",
    "\n",
    "if n = 2:\n",
    "\n",
    "  print \"Two\"\n",
    "\n",
    "#4) Given the following code, what would the output be for n = 0, 10, -1, 3, and -5?\n",
    "\n",
    "print n\n",
    "\n",
    "if n > 0:\n",
    "\n",
    "  print \"A\"\n",
    "\n",
    "  if n >= 3:\n",
    "\n",
    "    print \"B\"\n",
    "\n",
    "    print \"C\"\n",
    "\n",
    "  elsif n > 2:\n",
    "\n",
    "    print \"D\"\n",
    "\n",
    "  else:\n",
    "\n",
    "    print \"E\"\n",
    "\n",
    "elsif 1 > n > -2:\n",
    "\n",
    "  print \"F\"\n",
    "\n",
    "else:\n",
    "\n",
    "  print \"G\"\n",
    "\n",
    "if n < 5:\n",
    "\n",
    "  print \"H\""
   ]
  },
  {
   "cell_type": "code",
   "execution_count": 1,
   "metadata": {
    "collapsed": true
   },
   "outputs": [],
   "source": [
    "i = 5"
   ]
  },
  {
   "cell_type": "code",
   "execution_count": 2,
   "metadata": {
    "collapsed": false
   },
   "outputs": [
    {
     "name": "stdout",
     "output_type": "stream",
     "text": [
      "25\n"
     ]
    }
   ],
   "source": [
    "print 5 * 5"
   ]
  },
  {
   "cell_type": "code",
   "execution_count": 3,
   "metadata": {
    "collapsed": false
   },
   "outputs": [
    {
     "name": "stdout",
     "output_type": "stream",
     "text": [
      "5\n"
     ]
    }
   ],
   "source": [
    "print i"
   ]
  },
  {
   "cell_type": "code",
   "execution_count": 4,
   "metadata": {
    "collapsed": false
   },
   "outputs": [
    {
     "name": "stdout",
     "output_type": "stream",
     "text": [
      "catdog\n"
     ]
    }
   ],
   "source": [
    "print \"cat\" + \"dog\""
   ]
  },
  {
   "cell_type": "code",
   "execution_count": 5,
   "metadata": {
    "collapsed": false
   },
   "outputs": [
    {
     "name": "stdout",
     "output_type": "stream",
     "text": [
      "cat dog\n"
     ]
    }
   ],
   "source": [
    "print \"cat\", \"dog\""
   ]
  },
  {
   "cell_type": "code",
   "execution_count": 6,
   "metadata": {
    "collapsed": false
   },
   "outputs": [
    {
     "ename": "TypeError",
     "evalue": "unsupported operand type(s) for +: 'int' and 'str'",
     "output_type": "error",
     "traceback": [
      "\u001b[0;31m---------------------------------------------------------------------------\u001b[0m",
      "\u001b[0;31mTypeError\u001b[0m                                 Traceback (most recent call last)",
      "\u001b[0;32m<ipython-input-6-c0ef10090692>\u001b[0m in \u001b[0;36m<module>\u001b[0;34m()\u001b[0m\n\u001b[0;32m----> 1\u001b[0;31m \u001b[0;32mprint\u001b[0m \u001b[0;36m5\u001b[0m \u001b[0;34m+\u001b[0m \u001b[0;34m\"5\"\u001b[0m\u001b[0;34m\u001b[0m\u001b[0m\n\u001b[0m",
      "\u001b[0;31mTypeError\u001b[0m: unsupported operand type(s) for +: 'int' and 'str'"
     ]
    }
   ],
   "source": [
    "print 5 + \"5\""
   ]
  },
  {
   "cell_type": "markdown",
   "metadata": {},
   "source": [
    "\n",
    "#2a) The code doesn't work because 5 is an integer whereas \"5\" is a string.\n",
    "\n",
    "#2b) There are several ways to make it work! Give two possible changes and what the output would be in each case. "
   ]
  },
  {
   "cell_type": "code",
   "execution_count": 7,
   "metadata": {
    "collapsed": false
   },
   "outputs": [
    {
     "name": "stdout",
     "output_type": "stream",
     "text": [
      "55\n"
     ]
    }
   ],
   "source": [
    "print \"5\"+\"5\""
   ]
  },
  {
   "cell_type": "code",
   "execution_count": 8,
   "metadata": {
    "collapsed": false
   },
   "outputs": [
    {
     "name": "stdout",
     "output_type": "stream",
     "text": [
      "10\n"
     ]
    }
   ],
   "source": [
    "print int(5)+int(5)"
   ]
  },
  {
   "cell_type": "code",
   "execution_count": null,
   "metadata": {
    "collapsed": true
   },
   "outputs": [],
   "source": [
    "print 5 + 5"
   ]
  },
  {
   "cell_type": "markdown",
   "metadata": {},
   "source": [
    "\n",
    "#3) What is wrong with the following if statement?\n",
    "if n = 2:\n",
    "\n",
    "  print \"Two\"\n"
   ]
  },
  {
   "cell_type": "code",
   "execution_count": 10,
   "metadata": {
    "collapsed": false
   },
   "outputs": [
    {
     "ename": "SyntaxError",
     "evalue": "invalid syntax (<ipython-input-10-47593c1f11be>, line 1)",
     "output_type": "error",
     "traceback": [
      "\u001b[0;36m  File \u001b[0;32m\"<ipython-input-10-47593c1f11be>\"\u001b[0;36m, line \u001b[0;32m1\u001b[0m\n\u001b[0;31m    if n = 2:\u001b[0m\n\u001b[0m         ^\u001b[0m\n\u001b[0;31mSyntaxError\u001b[0m\u001b[0;31m:\u001b[0m invalid syntax\n"
     ]
    }
   ],
   "source": [
    "if n = 2:\n",
    "print \"Two\""
   ]
  },
  {
   "cell_type": "markdown",
   "metadata": {},
   "source": [
    "We are missing one equal sign. \n",
    "it should be if n==2:\n",
    "print \"Two\""
   ]
  },
  {
   "cell_type": "markdown",
   "metadata": {},
   "source": [
    "\n",
    "#4) Given the following code, what would the output be for n = 0, 10, -1, 3, and -5?"
   ]
  },
  {
   "cell_type": "markdown",
   "metadata": {},
   "source": [
    "print n\n",
    "if n > 0:\n",
    "print \"A\"\n",
    "if n >= 3:\n",
    "print \"B\"\n",
    "\n",
    "print \"C\"\n",
    "elsif n > 2:\n",
    "print \"D\"\n",
    "else:\n",
    "print \"E\"\n",
    "elsif 1 > n > -2:\n",
    "print \"F\"\n",
    "else:\n",
    "print \"G\"\n",
    "if n < 5:\n",
    "print \"H\"\n",
    "\n",
    "n=0 \n",
    "Displays E H\n",
    "\n",
    "n= 10\n",
    "Displays A B C\n",
    "n= -1 E H\n",
    "n= 3\n",
    "Displays BC H\n",
    "\n",
    "This condtion \"elsif 1 > n > -2:\" is an error in the code and its not ncecessary since the further two if conditions are sufficient\n"
   ]
  },
  {
   "cell_type": "code",
   "execution_count": null,
   "metadata": {
    "collapsed": true
   },
   "outputs": [],
   "source": []
  },
  {
   "cell_type": "code",
   "execution_count": null,
   "metadata": {
    "collapsed": true
   },
   "outputs": [],
   "source": []
  }
 ],
 "metadata": {
  "kernelspec": {
   "display_name": "Python 2",
   "language": "python",
   "name": "python2"
  },
  "language_info": {
   "codemirror_mode": {
    "name": "ipython",
    "version": 2
   },
   "file_extension": ".py",
   "mimetype": "text/x-python",
   "name": "python",
   "nbconvert_exporter": "python",
   "pygments_lexer": "ipython2",
   "version": "2.7.9"
  }
 },
 "nbformat": 4,
 "nbformat_minor": 0
}
