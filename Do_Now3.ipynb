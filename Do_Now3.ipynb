{
 "cells": [
  {
   "cell_type": "markdown",
   "metadata": {},
   "source": [
    "1) What two errors can you spot below?\n",
    "\n",
    "n = 2;\n",
    "\n",
    "if n < 2:\n",
    "\n",
    "  print \"Small\"\n",
    "\n",
    "elif n = 2:\n",
    "\n",
    "  print \"Medium\"\n",
    "\n",
    "else print \"Large\"\n"
   ]
  },
  {
   "cell_type": "code",
   "execution_count": 2,
   "metadata": {
    "collapsed": false
   },
   "outputs": [
    {
     "ename": "SyntaxError",
     "evalue": "invalid syntax (<ipython-input-2-df1d1ff988c9>, line 4)",
     "output_type": "error",
     "traceback": [
      "\u001b[0;36m  File \u001b[0;32m\"<ipython-input-2-df1d1ff988c9>\"\u001b[0;36m, line \u001b[0;32m4\u001b[0m\n\u001b[0;31m    elif n = 2:\u001b[0m\n\u001b[0m           ^\u001b[0m\n\u001b[0;31mSyntaxError\u001b[0m\u001b[0;31m:\u001b[0m invalid syntax\n"
     ]
    }
   ],
   "source": [
    "n = 2;\n",
    "if n < 2:\n",
    " print \"Small\"\n",
    "elif n = 2:\n",
    " print \"Medium\"\n",
    "else print \"Large\""
   ]
  },
  {
   "cell_type": "markdown",
   "metadata": {},
   "source": [
    "n=2 does have a semicolon instead of a colon. \n",
    "elif n=2 should have =="
   ]
  },
  {
   "cell_type": "markdown",
   "metadata": {},
   "source": [
    "2) Given the following code, '11238' is a _value\n",
    "and 23 is a key_.\n",
    "{ '11238': 23, '10011': 47 }\n"
   ]
  },
  {
   "cell_type": "markdown",
   "metadata": {},
   "source": [
    "3) How would you add a 'low' of 54 to the \n",
    "\n",
    "following dictionary?\n",
    "\n",
    "weather = { 'high': 66, 'appearance': \n",
    "\n",
    "'cloudy', 'low': 54}\n"
   ]
  },
  {
   "cell_type": "markdown",
   "metadata": {},
   "source": [
    "4) How can we easily get the total of the list \n",
    "\n",
    "below? How about a count of how many \n",
    "\n",
    "elements are in the list?\n",
    "\n",
    "numbers = [ 1, 2, 3, 4, 5, 6, 7]\n"
   ]
  },
  {
   "cell_type": "code",
   "execution_count": 4,
   "metadata": {
    "collapsed": false
   },
   "outputs": [
    {
     "data": {
      "text/plain": [
       "7"
      ]
     },
     "execution_count": 4,
     "metadata": {},
     "output_type": "execute_result"
    }
   ],
   "source": [
    "numbers=[ 1, 2, 3, 4, 5, 6, 7]\n",
    "len(numbers)"
   ]
  },
  {
   "cell_type": "markdown",
   "metadata": {},
   "source": [
    "5) Print the 3rd element of a list named dogs. "
   ]
  },
  {
   "cell_type": "code",
   "execution_count": 14,
   "metadata": {
    "collapsed": false
   },
   "outputs": [
    {
     "name": "stdout",
     "output_type": "stream",
     "text": [
      "[2]\n"
     ]
    }
   ],
   "source": [
    "dogs = [3,4,5,6]\n",
    "print [2]"
   ]
  },
  {
   "cell_type": "markdown",
   "metadata": {},
   "source": [
    "It should print 5 but it prints 2 i do not understand why."
   ]
  },
  {
   "cell_type": "markdown",
   "metadata": {},
   "source": [
    "5a) Given the following dictionary, how can we get a list of all three ZIP codes?\n",
    "\n",
    "data = { '11238': 23, '10011': 47, \n",
    "\n",
    "'10011': 10 }"
   ]
  },
  {
   "cell_type": "code",
   "execution_count": 22,
   "metadata": {
    "collapsed": false
   },
   "outputs": [
    {
     "name": "stdout",
     "output_type": "stream",
     "text": [
      "['11238', '10013', '10011']\n"
     ]
    }
   ],
   "source": [
    "\n",
    "data = { '11238': 23, '10013': 47,'10011': 10 }\n",
    "print  data.keys()"
   ]
  },
  {
   "cell_type": "markdown",
   "metadata": {},
   "source": [
    "5b) Write a for loop that prints all three zip \n",
    "\n",
    "codes on separate lines. "
   ]
  },
  {
   "cell_type": "code",
   "execution_count": 23,
   "metadata": {
    "collapsed": false
   },
   "outputs": [
    {
     "name": "stdout",
     "output_type": "stream",
     "text": [
      "11238\n",
      "10013\n",
      "10011\n"
     ]
    }
   ],
   "source": [
    "for keys,values in data.items():\n",
    "\tprint keys"
   ]
  },
  {
   "cell_type": "markdown",
   "metadata": {},
   "source": [
    "\n",
    "6) Given the following list, add together any numbers greater than 10.\n",
    "\n",
    "values = [20, 30 ,10, 5, 99]"
   ]
  },
  {
   "cell_type": "code",
   "execution_count": 34,
   "metadata": {
    "collapsed": false
   },
   "outputs": [
    {
     "ename": "IndentationError",
     "evalue": "expected an indented block (<ipython-input-34-f32389bb1f18>, line 3)",
     "output_type": "error",
     "traceback": [
      "\u001b[0;36m  File \u001b[0;32m\"<ipython-input-34-f32389bb1f18>\"\u001b[0;36m, line \u001b[0;32m3\u001b[0m\n\u001b[0;31m    if value > 10:\u001b[0m\n\u001b[0m     ^\u001b[0m\n\u001b[0;31mIndentationError\u001b[0m\u001b[0;31m:\u001b[0m expected an indented block\n"
     ]
    }
   ],
   "source": [
    "values = [20, 30 ,10, 5, 99]\n",
    "for value in values.items():\n",
    "if value > 10:\n",
    "    print values "
   ]
  },
  {
   "cell_type": "markdown",
   "metadata": {},
   "source": [
    "No idea how to do this. "
   ]
  },
  {
   "cell_type": "code",
   "execution_count": null,
   "metadata": {
    "collapsed": true
   },
   "outputs": [],
   "source": []
  }
 ],
 "metadata": {
  "kernelspec": {
   "display_name": "Python 2",
   "language": "python",
   "name": "python2"
  },
  "language_info": {
   "codemirror_mode": {
    "name": "ipython",
    "version": 2
   },
   "file_extension": ".py",
   "mimetype": "text/x-python",
   "name": "python",
   "nbconvert_exporter": "python",
   "pygments_lexer": "ipython2",
   "version": "2.7.9"
  }
 },
 "nbformat": 4,
 "nbformat_minor": 0
}
