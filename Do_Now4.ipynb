{
 "cells": [
  {
   "cell_type": "markdown",
   "metadata": {},
   "source": [
    "1) Print the 3rd element of a list called dogs.\n"
   ]
  },
  {
   "cell_type": "code",
   "execution_count": 4,
   "metadata": {
    "collapsed": false
   },
   "outputs": [
    {
     "ename": "SyntaxError",
     "evalue": "invalid syntax (<ipython-input-4-86646962bec7>, line 2)",
     "output_type": "error",
     "traceback": [
      "\u001b[0;36m  File \u001b[0;32m\"<ipython-input-4-86646962bec7>\"\u001b[0;36m, line \u001b[0;32m2\u001b[0m\n\u001b[0;31m    print = [2]\u001b[0m\n\u001b[0m          ^\u001b[0m\n\u001b[0;31mSyntaxError\u001b[0m\u001b[0;31m:\u001b[0m invalid syntax\n"
     ]
    }
   ],
   "source": [
    "dogs= [cat,dog,pig,]\n",
    "print = [2]"
   ]
  },
  {
   "cell_type": "markdown",
   "metadata": {},
   "source": [
    "2) What is the output of the following code?\n",
    "\n",
    "numbers = [ 1, 2, 3, 4]\n",
    "\n",
    "colors = [ \"green\", \"blue\" ]\n",
    "\n",
    "for color in colors:\n",
    "\n",
    "for number in numbers: \n",
    "\n",
    "print number, color\n"
   ]
  },
  {
   "cell_type": "code",
   "execution_count": 6,
   "metadata": {
    "collapsed": false
   },
   "outputs": [
    {
     "name": "stdout",
     "output_type": "stream",
     "text": [
      "1 green\n",
      "2 green\n",
      "3 green\n",
      "4 green\n",
      "1 blue\n",
      "2 blue\n",
      "3 blue\n",
      "4 blue\n"
     ]
    }
   ],
   "source": [
    "numbers = [ 1, 2, 3, 4]\n",
    "colors = [ \"green\", \"blue\" ]\n",
    "for color in colors:\n",
    "    for number in numbers:\n",
    "        print number, color"
   ]
  },
  {
   "cell_type": "markdown",
   "metadata": {},
   "source": [
    "3) What command would you use to get the \n",
    "\n",
    "first 100 lines of data.csv, and save it into a \n",
    "\n",
    "new file named sample.csv?\n",
    "\n",
    "This is a view of the file lists.csv, used for the questions \n",
    "\n",
    "below\n",
    "\n",
    "make year color \n",
    "\n",
    "Chevrolet 2011 black \n",
    "\n",
    "Honda 2010 red \n",
    "\n",
    "Honda 2013 black \n",
    "\n",
    "Toyota 2001 gold \n",
    "\n",
    "To get the first 100 lines  and save it as a new file you would write\n",
    "head -n 100 lists.csv > sample.csv\n"
   ]
  },
  {
   "cell_type": "markdown",
   "metadata": {},
   "source": [
    "4) What is missing from the lines below? (It \n",
    "\n",
    "isn't 100% necessary, but we use it for \n",
    "\n",
    "convenience)\n",
    "\n",
    "file = open(\"lists.csv\")\n",
    "\n",
    "cars = csv.DictReader(file)\n",
    "\n",
    " You should write cars = list(csv.DictReader(file))"
   ]
  },
  {
   "cell_type": "markdown",
   "metadata": {},
   "source": [
    "5) Write a for loop to add up all of the years. \n",
    "\n",
    "Save it to a variable called total."
   ]
  },
  {
   "cell_type": "code",
   "execution_count": 12,
   "metadata": {
    "collapsed": false
   },
   "outputs": [
    {
     "ename": "SyntaxError",
     "evalue": "invalid syntax (<ipython-input-12-e9be6a107a82>, line 6)",
     "output_type": "error",
     "traceback": [
      "\u001b[0;36m  File \u001b[0;32m\"<ipython-input-12-e9be6a107a82>\"\u001b[0;36m, line \u001b[0;32m6\u001b[0m\n\u001b[0;31m    print = total\u001b[0m\n\u001b[0m          ^\u001b[0m\n\u001b[0;31mSyntaxError\u001b[0m\u001b[0;31m:\u001b[0m invalid syntax\n"
     ]
    }
   ],
   "source": [
    "\n",
    "\n",
    "total= 0\n",
    "for car in cars:\n",
    "   total = total+car['year']\n",
    "print = total"
   ]
  },
  {
   "cell_type": "code",
   "execution_count": 15,
   "metadata": {
    "collapsed": false
   },
   "outputs": [
    {
     "ename": "SyntaxError",
     "evalue": "invalid syntax (<ipython-input-15-885b1a8fed2c>, line 3)",
     "output_type": "error",
     "traceback": [
      "\u001b[0;36m  File \u001b[0;32m\"<ipython-input-15-885b1a8fed2c>\"\u001b[0;36m, line \u001b[0;32m3\u001b[0m\n\u001b[0;31m    if car[\"color\"] == \"black\" and car[\"year\"] <= 2010\u001b[0m\n\u001b[0m                                                      ^\u001b[0m\n\u001b[0;31mSyntaxError\u001b[0m\u001b[0;31m:\u001b[0m invalid syntax\n"
     ]
    }
   ],
   "source": [
    "favorites=0\n",
    "for car in cars:\n",
    "    if car[\"color\"] == \"black\" and car[\"year\"] <= 2010\n",
    "        favorites  = favorites+1\n",
    "print \"There are\", favorites, \"black cars produced after 2010 in\", car\n"
   ]
  },
  {
   "cell_type": "markdown",
   "metadata": {},
   "source": [
    "see above: 6) I'd like a new list called favorites that \n",
    "\n",
    "includes all cars that are black or produced \n",
    "\n",
    "after 2010. Write a for loop to create this list.\n",
    "\n",
    "Tip: You can join things in if statements using \n",
    "\n",
    "and and or, like n > 3 or name == \"Peter\""
   ]
  }
 ],
 "metadata": {
  "kernelspec": {
   "display_name": "Python 2",
   "language": "python",
   "name": "python2"
  },
  "language_info": {
   "codemirror_mode": {
    "name": "ipython",
    "version": 2
   },
   "file_extension": ".py",
   "mimetype": "text/x-python",
   "name": "python",
   "nbconvert_exporter": "python",
   "pygments_lexer": "ipython2",
   "version": "2.7.9"
  }
 },
 "nbformat": 4,
 "nbformat_minor": 0
}
