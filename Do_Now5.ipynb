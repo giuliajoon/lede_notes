{
 "cells": [
  {
   "cell_type": "markdown",
   "metadata": {},
   "source": [
    "1) What's the output of the following lines?\n",
    "\n",
    "name = \"Max\"\n",
    "\n",
    "print \"hello\", \"name\"\n",
    "\n",
    "print \"hello\", name\n",
    "\n"
   ]
  },
  {
   "cell_type": "code",
   "execution_count": 1,
   "metadata": {
    "collapsed": false
   },
   "outputs": [
    {
     "name": "stdout",
     "output_type": "stream",
     "text": [
      "hello name\n",
      "hello Max\n"
     ]
    }
   ],
   "source": [
    "name = \"Max\"\n",
    "\n",
    "print \"hello\", \"name\"\n",
    "\n",
    "print \"hello\", name\n"
   ]
  },
  {
   "cell_type": "markdown",
   "metadata": {},
   "source": [
    "2) What is the output of the following code?\n",
    "Which lines give you errors?\n",
    "borough_name = 'Manhattan'\n",
    "z = [ 'Manhattan', 'Queens' ]\n",
    "x = { 'borough_name': 'Manhattan',\n",
    "'population': 500 }\n",
    "y = {\n",
    "'Manhattan': 500,\n",
    "'Queens': 200\n",
    "}\n",
    "print x['borough_name']\n",
    "print x[borough_name]\n",
    "print x[0]\n",
    "print y['borough_name']\n",
    "print y[borough_name]\n",
    "print y[0]\n",
    "print z['borough_name']\n",
    "print z[borough_name]\n",
    "print z[0]"
   ]
  },
  {
   "cell_type": "code",
   "execution_count": 16,
   "metadata": {
    "collapsed": false
   },
   "outputs": [
    {
     "name": "stdout",
     "output_type": "stream",
     "text": [
      "Manhattan\n",
      "500\n",
      "Manhattan\n"
     ]
    }
   ],
   "source": [
    "borough_name = 'Manhattan' \n",
    "z = [ 'Manhattan', 'Queens' ] \n",
    "x = { 'borough_name': 'Manhattan', 'population': 500 } \n",
    "y = { 'Manhattan': 500, 'Queens': 200 }\n",
    "print x['borough_name']\n",
    "#print x[borough_name] - Displays key error\n",
    "#print x[0] displays key error #x is a dictionary not a list \n",
    "#print y['borough_name'] displays KeyError: 'borough_name' since there is not a variale called \"borough_name in the dictionary \n",
    "print y[borough_name] #displays the first value of the dictionary \n",
    "#print y[0] Duspalys key error since y is not a list but a dictionary\n",
    "# print z['borough_name'] Displays list indices must be integers, not str z is a list so \"borough_name\" should be an integer\n",
    "#print z [borough_name] Displays list indices must be integers, not sure why however \n",
    "print z[0] #z is a list so it will print the first element of the list"
   ]
  },
  {
   "cell_type": "markdown",
   "metadata": {},
   "source": []
  },
  {
   "cell_type": "markdown",
   "metadata": {},
   "source": [
    "3) We have a list called numbers, but we had an \n",
    "\n",
    "off-by-one error: add one to every element of \n",
    "\n",
    "the list, then sum the results. Do this in one \n",
    "\n",
    "line."
   ]
  },
  {
   "cell_type": "code",
   "execution_count": 18,
   "metadata": {
    "collapsed": false
   },
   "outputs": [
    {
     "data": {
      "text/plain": [
       "36"
      ]
     },
     "execution_count": 18,
     "metadata": {},
     "output_type": "execute_result"
    }
   ],
   "source": [
    "numbers = [1,3,5,6,7,8]\n",
    "\n",
    "sum([num+1 for num in numbers])\n"
   ]
  },
  {
   "cell_type": "code",
   "execution_count": 20,
   "metadata": {
    "collapsed": false
   },
   "outputs": [
    {
     "name": "stdout",
     "output_type": "stream",
     "text": [
      "{'Yonkers': 0}\n",
      "{'Yonkers': 0, 'Albany': 0}\n",
      "{'Yonkers': 0, 'Albany': 0, 'Rochester': 0}\n",
      "{'Yonkers': 0, 'Albany': 0, 'Rochester': 0, 'Kings County': 0}\n"
     ]
    },
    {
     "ename": "TypeError",
     "evalue": "string indices must be integers, not str",
     "output_type": "error",
     "traceback": [
      "\u001b[0;31m---------------------------------------------------------------------------\u001b[0m",
      "\u001b[0;31mTypeError\u001b[0m                                 Traceback (most recent call last)",
      "\u001b[0;32m<ipython-input-20-e5155b561725>\u001b[0m in \u001b[0;36m<module>\u001b[0;34m()\u001b[0m\n\u001b[1;32m      9\u001b[0m \u001b[0;34m\u001b[0m\u001b[0m\n\u001b[1;32m     10\u001b[0m \u001b[0;32mfor\u001b[0m \u001b[0mmurder\u001b[0m \u001b[0;32min\u001b[0m \u001b[0mmurders\u001b[0m\u001b[0;34m:\u001b[0m\u001b[0;34m\u001b[0m\u001b[0m\n\u001b[0;32m---> 11\u001b[0;31m         \u001b[0mmurder\u001b[0m \u001b[0;34m=\u001b[0m \u001b[0mmurder\u001b[0m\u001b[0;34m[\u001b[0m\u001b[0mmurder\u001b[0m\u001b[0;34m]\u001b[0m\u001b[0;34m\u001b[0m\u001b[0m\n\u001b[0m\u001b[1;32m     12\u001b[0m         \u001b[0mMurder_counts\u001b[0m\u001b[0;34m[\u001b[0m\u001b[0mmurder\u001b[0m\u001b[0;34m]\u001b[0m \u001b[0;34m=\u001b[0m \u001b[0mMurder_counts\u001b[0m\u001b[0;34m[\u001b[0m\u001b[0mmurder\u001b[0m\u001b[0;34m]\u001b[0m \u001b[0;34m+\u001b[0m \u001b[0;36m1\u001b[0m\u001b[0;34m\u001b[0m\u001b[0m\n",
      "\u001b[0;31mTypeError\u001b[0m: string indices must be integers, not str"
     ]
    }
   ],
   "source": [
    "#4a) Given the following, write code to calculate how many murders we have in total.\n",
    "\n",
    "murders = { 'Albany': 23, 'Kings County': 10, 'Rochester': 7, 'Yonkers' : 9 }\n",
    "\n",
    "Murder_counts = {}\n",
    "for murder in murders:\n",
    "\tMurder_counts[murder] = 0\n",
    "\tprint Murder_counts\n",
    "    \n",
    "for murder in murders:\n",
    "\tmurder = murder[]\n",
    "\tMurder_counts[murder] = Murder_counts[murder] + 1"
   ]
  },
  {
   "cell_type": "markdown",
   "metadata": {},
   "source": [
    "4b) Write code to calculate the percentage of \n",
    "\n",
    "the murders happened in Kings County."
   ]
  },
  {
   "cell_type": "code",
   "execution_count": 25,
   "metadata": {
    "collapsed": false
   },
   "outputs": [
    {
     "ename": "SyntaxError",
     "evalue": "unexpected EOF while parsing (<ipython-input-25-934f4ab2ca5f>, line 1)",
     "output_type": "error",
     "traceback": [
      "\u001b[0;36m  File \u001b[0;32m\"<ipython-input-25-934f4ab2ca5f>\"\u001b[0;36m, line \u001b[0;32m1\u001b[0m\n\u001b[0;31m    murders_Kings_county = (float(\"Kings County\") * 100\u001b[0m\n\u001b[0m                                                       ^\u001b[0m\n\u001b[0;31mSyntaxError\u001b[0m\u001b[0;31m:\u001b[0m unexpected EOF while parsing\n"
     ]
    }
   ],
   "source": [
    "murders_Kings_county = (float(\"Kings County\") * 100"
   ]
  },
  {
   "cell_type": "code",
   "execution_count": null,
   "metadata": {
    "collapsed": true
   },
   "outputs": [],
   "source": []
  }
 ],
 "metadata": {
  "kernelspec": {
   "display_name": "Python 2",
   "language": "python",
   "name": "python2"
  },
  "language_info": {
   "codemirror_mode": {
    "name": "ipython",
    "version": 2
   },
   "file_extension": ".py",
   "mimetype": "text/x-python",
   "name": "python",
   "nbconvert_exporter": "python",
   "pygments_lexer": "ipython2",
   "version": "2.7.9"
  }
 },
 "nbformat": 4,
 "nbformat_minor": 0
}
